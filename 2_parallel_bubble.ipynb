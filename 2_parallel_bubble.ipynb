{
  "nbformat": 4,
  "nbformat_minor": 0,
  "metadata": {
    "colab": {
      "provenance": []
    },
    "kernelspec": {
      "name": "python3",
      "display_name": "Python 3"
    },
    "language_info": {
      "name": "python"
    }
  },
  "cells": [
    {
      "cell_type": "code",
      "source": [
        "%%writefile bubble_sort.cpp\n",
        "#include<iostream>\n",
        "#include<omp.h>\n",
        "\n",
        "using namespace std;\n",
        "\n",
        "void bubble(int array[], int n){\n",
        "    for (int i = 0; i < n - 1; i++){\n",
        "        for (int j = 0; j < n - i - 1; j++){\n",
        "            if (array[j] > array[j + 1])\n",
        "                swap(array[j], array[j + 1]);\n",
        "        }\n",
        "    }\n",
        "}\n",
        "\n",
        "void pBubble(int array[], int n){\n",
        "    for(int i = 0; i < n; ++i){\n",
        "        // Odd phase\n",
        "        #pragma omp for\n",
        "        for (int j = 1; j < n; j += 2){\n",
        "            if (array[j] < array[j - 1])\n",
        "                swap(array[j], array[j - 1]);\n",
        "        }\n",
        "\n",
        "        #pragma omp barrier\n",
        "\n",
        "        // Even phase\n",
        "        #pragma omp for\n",
        "        for (int j = 2; j < n; j += 2){\n",
        "            if (array[j] < array[j - 1])\n",
        "                swap(array[j], array[j - 1]);\n",
        "        }\n",
        "\n",
        "        #pragma omp barrier\n",
        "    }\n",
        "}\n",
        "\n",
        "void printArray(int arr[], int n){\n",
        "    for(int i = 0; i < n; i++) cout << arr[i] << \" \";\n",
        "    cout << \"\\n\";\n",
        "}\n",
        "\n",
        "int main(){\n",
        "    int n = 10;\n",
        "    int arr[n];\n",
        "    double start_time, end_time;\n",
        "\n",
        "    for(int i = 0, j = n; i < n; i++, j--) arr[i] = j;\n",
        "\n",
        "    // Sequential Bubble Sort\n",
        "    start_time = omp_get_wtime();\n",
        "    bubble(arr, n);\n",
        "    end_time = omp_get_wtime();\n",
        "    cout << \"Sequential Bubble Sort took : \" << end_time - start_time << \" seconds.\\n\";\n",
        "    printArray(arr, n);\n",
        "\n",
        "    for(int i = 0, j = n; i < n; i++, j--) arr[i] = j;\n",
        "\n",
        "    // Parallel Bubble Sort\n",
        "    start_time = omp_get_wtime();\n",
        "    #pragma omp parallel\n",
        "    {\n",
        "        pBubble(arr, n);\n",
        "    }\n",
        "    end_time = omp_get_wtime();\n",
        "    cout << \"Parallel Bubble Sort took : \" << end_time - start_time << \" seconds.\\n\";\n",
        "    printArray(arr, n);\n",
        "\n",
        "    return 0;\n",
        "}\n"
      ],
      "metadata": {
        "colab": {
          "base_uri": "https://localhost:8080/"
        },
        "id": "AeIVpYKTXd8o",
        "outputId": "d41b2471-5356-470a-9a84-83aa9eb776fb"
      },
      "execution_count": 11,
      "outputs": [
        {
          "output_type": "stream",
          "name": "stdout",
          "text": [
            "Writing bubble_sort.cpp\n"
          ]
        }
      ]
    },
    {
      "cell_type": "code",
      "source": [
        "!g++ -fopenmp bubble_sort.cpp -o bubble_sort\n"
      ],
      "metadata": {
        "id": "qcoCMXdiXu4G"
      },
      "execution_count": 12,
      "outputs": []
    },
    {
      "cell_type": "code",
      "source": [
        "!./bubble_sort\n"
      ],
      "metadata": {
        "colab": {
          "base_uri": "https://localhost:8080/"
        },
        "id": "yjomxwWzX38f",
        "outputId": "9068008c-9487-4b5a-a29b-d389ddf4be00"
      },
      "execution_count": 13,
      "outputs": [
        {
          "output_type": "stream",
          "name": "stdout",
          "text": [
            "Sequential Bubble Sort took : 4.304e-06 seconds.\n",
            "1 2 3 4 5 6 7 8 9 10 \n",
            "Parallel Bubble Sort took : 0.000154284 seconds.\n",
            "1 2 3 4 5 6 7 8 9 10 \n"
          ]
        }
      ]
    }
  ]
}