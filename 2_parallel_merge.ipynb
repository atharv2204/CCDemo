{
  "nbformat": 4,
  "nbformat_minor": 0,
  "metadata": {
    "colab": {
      "provenance": []
    },
    "kernelspec": {
      "name": "python3",
      "display_name": "Python 3"
    },
    "language_info": {
      "name": "python"
    }
  },
  "cells": [
    {
      "cell_type": "code",
      "source": [
        "%%writefile merge_sort.cpp\n",
        "#include <iostream>\n",
        "#include <omp.h>\n",
        "\n",
        "using namespace std;\n",
        "\n",
        "void merge(int arr[], int low, int mid, int high) {\n",
        "    int n1 = mid - low + 1;\n",
        "    int n2 = high - mid;\n",
        "\n",
        "    int left[n1], right[n2];\n",
        "    for (int i = 0; i < n1; i++) left[i] = arr[low + i];\n",
        "    for (int j = 0; j < n2; j++) right[j] = arr[mid + 1 + j];\n",
        "\n",
        "    int i = 0, j = 0, k = low;\n",
        "    while (i < n1 && j < n2) {\n",
        "        if (left[i] <= right[j])\n",
        "            arr[k++] = left[i++];\n",
        "        else\n",
        "            arr[k++] = right[j++];\n",
        "    }\n",
        "\n",
        "    while (i < n1) arr[k++] = left[i++];\n",
        "    while (j < n2) arr[k++] = right[j++];\n",
        "}\n",
        "\n",
        "void parallelMergeSort(int arr[], int low, int high) {\n",
        "    if (low < high) {\n",
        "        int mid = (low + high) / 2;\n",
        "\n",
        "        #pragma omp parallel sections\n",
        "        {\n",
        "            #pragma omp section\n",
        "            parallelMergeSort(arr, low, mid);\n",
        "\n",
        "            #pragma omp section\n",
        "            parallelMergeSort(arr, mid + 1, high);\n",
        "        }\n",
        "\n",
        "        merge(arr, low, mid, high);\n",
        "    }\n",
        "}\n",
        "\n",
        "void mergeSort(int arr[], int low, int high) {\n",
        "    if (low < high) {\n",
        "        int mid = (low + high) / 2;\n",
        "        mergeSort(arr, low, mid);\n",
        "        mergeSort(arr, mid + 1, high);\n",
        "        merge(arr, low, mid, high);\n",
        "    }\n",
        "}\n",
        "\n",
        "int main() {\n",
        "    int n = 10;\n",
        "    int arr[n];\n",
        "    double start_time, end_time;\n",
        "\n",
        "    for(int i = 0, j = n; i < n; i++, j--) arr[i] = j;\n",
        "\n",
        "    start_time = omp_get_wtime();\n",
        "    mergeSort(arr, 0, n - 1);\n",
        "    end_time = omp_get_wtime();\n",
        "    cout << \"Time taken by sequential algorithm: \" << end_time - start_time << \" seconds\\n\";\n",
        "\n",
        "    for(int i = 0, j = n; i < n; i++, j--) arr[i] = j;\n",
        "\n",
        "    start_time = omp_get_wtime();\n",
        "    parallelMergeSort(arr, 0, n - 1);\n",
        "    end_time = omp_get_wtime();\n",
        "    cout << \"Time taken by parallel algorithm: \" << end_time - start_time << \" seconds\\n\";\n",
        "\n",
        "    return 0;\n",
        "}\n"
      ],
      "metadata": {
        "colab": {
          "base_uri": "https://localhost:8080/"
        },
        "id": "AeIVpYKTXd8o",
        "outputId": "60a54e07-bbda-48a2-9466-6d7f33af6e87"
      },
      "execution_count": 16,
      "outputs": [
        {
          "output_type": "stream",
          "name": "stdout",
          "text": [
            "Overwriting merge_sort.cpp\n"
          ]
        }
      ]
    },
    {
      "cell_type": "code",
      "source": [
        "!g++ -fopenmp merge_sort.cpp -o merge_sort"
      ],
      "metadata": {
        "id": "qcoCMXdiXu4G"
      },
      "execution_count": 17,
      "outputs": []
    },
    {
      "cell_type": "code",
      "source": [
        "!./merge_sort"
      ],
      "metadata": {
        "colab": {
          "base_uri": "https://localhost:8080/"
        },
        "id": "yjomxwWzX38f",
        "outputId": "0f23b4f7-1172-41dd-ccd3-853492aa8621"
      },
      "execution_count": 18,
      "outputs": [
        {
          "output_type": "stream",
          "name": "stdout",
          "text": [
            "Time taken by sequential algorithm: 2.642e-06 seconds\n",
            "Time taken by parallel algorithm: 0.00203123 seconds\n"
          ]
        }
      ]
    }
  ]
}