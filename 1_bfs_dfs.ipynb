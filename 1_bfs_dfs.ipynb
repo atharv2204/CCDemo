{
  "nbformat": 4,
  "nbformat_minor": 0,
  "metadata": {
    "colab": {
      "provenance": []
    },
    "kernelspec": {
      "name": "python3",
      "display_name": "Python 3"
    },
    "language_info": {
      "name": "python"
    }
  },
  "cells": [
    {
      "cell_type": "code",
      "source": [
        "%%writefile main.cpp\n",
        "#include <iostream>\n",
        "#include <vector>\n",
        "#include <queue>\n",
        "#include <omp.h>\n",
        "\n",
        "using namespace std;\n",
        "\n",
        "// Graph class representing the adjacency list\n",
        "class Graph {\n",
        "    int V;\n",
        "    vector<vector<int>> adj;\n",
        "\n",
        "public:\n",
        "    Graph(int V) : V(V), adj(V) {}\n",
        "\n",
        "    void addEdge(int v, int w) {\n",
        "        adj[v].push_back(w);\n",
        "    }\n",
        "\n",
        "    void parallelDFS(int startVertex) {\n",
        "        vector<bool> visited(V, false);\n",
        "        parallelDFSUtil(startVertex, visited);\n",
        "    }\n",
        "\n",
        "    void parallelDFSUtil(int v, vector<bool>& visited) {\n",
        "        visited[v] = true;\n",
        "        cout << v << \" \";\n",
        "\n",
        "        #pragma omp parallel for\n",
        "        for (int i = 0; i < adj[v].size(); ++i) {\n",
        "            int n = adj[v][i];\n",
        "            if (!visited[n])\n",
        "                parallelDFSUtil(n, visited);\n",
        "        }\n",
        "    }\n",
        "\n",
        "    void parallelBFS(int startVertex) {\n",
        "        vector<bool> visited(V, false);\n",
        "        queue<int> q;\n",
        "\n",
        "        visited[startVertex] = true;\n",
        "        q.push(startVertex);\n",
        "\n",
        "        while (!q.empty()) {\n",
        "            int v = q.front();\n",
        "            q.pop();\n",
        "            cout << v << \" \";\n",
        "\n",
        "            #pragma omp parallel for\n",
        "            for (int i = 0; i < adj[v].size(); ++i) {\n",
        "                int n = adj[v][i];\n",
        "                if (!visited[n]) {\n",
        "                    visited[n] = true;\n",
        "                    q.push(n);\n",
        "                }\n",
        "            }\n",
        "        }\n",
        "    }\n",
        "};\n",
        "\n",
        "int main() {\n",
        "    Graph g(7);\n",
        "    g.addEdge(0, 1);\n",
        "    g.addEdge(0, 2);\n",
        "    g.addEdge(1, 3);\n",
        "    g.addEdge(1, 4);\n",
        "    g.addEdge(2, 5);\n",
        "    g.addEdge(2, 6);\n",
        "\n",
        "    cout << \"Depth-First Search (DFS): \";\n",
        "    g.parallelDFS(0);\n",
        "    cout << endl;\n",
        "\n",
        "    cout << \"Breadth-First Search (BFS): \";\n",
        "    g.parallelBFS(0);\n",
        "    cout << endl;\n",
        "\n",
        "    return 0;\n",
        "}\n"
      ],
      "metadata": {
        "colab": {
          "base_uri": "https://localhost:8080/"
        },
        "id": "AeIVpYKTXd8o",
        "outputId": "e183a653-aa3b-4fce-ee50-3f5a9b6903dd"
      },
      "execution_count": 5,
      "outputs": [
        {
          "output_type": "stream",
          "name": "stdout",
          "text": [
            "Writing main.cpp\n"
          ]
        }
      ]
    },
    {
      "cell_type": "code",
      "source": [
        "!g++ -fopenmp main.cpp -o main\n"
      ],
      "metadata": {
        "id": "qcoCMXdiXu4G"
      },
      "execution_count": 6,
      "outputs": []
    },
    {
      "cell_type": "code",
      "source": [
        "!./main"
      ],
      "metadata": {
        "colab": {
          "base_uri": "https://localhost:8080/"
        },
        "id": "yjomxwWzX38f",
        "outputId": "abb46062-d184-4144-9ed2-fb0712238b07"
      },
      "execution_count": 10,
      "outputs": [
        {
          "output_type": "stream",
          "name": "stdout",
          "text": [
            "Depth-First Search (DFS): 0 2 1 3 4 5 6 \n",
            "Breadth-First Search (BFS): 0 2 1 6 5 4 3 \n"
          ]
        }
      ]
    }
  ]
}